{
 "cells": [
  {
   "cell_type": "markdown",
   "id": "9b9e0458",
   "metadata": {},
   "source": [
    "# Web Scrapping "
   ]
  },
  {
   "cell_type": "code",
   "execution_count": 7,
   "id": "4fc44211",
   "metadata": {},
   "outputs": [],
   "source": [
    "# import libraries\n",
    "import requests\n",
    "from bs4 import BeautifulSoup\n",
    "import pandas as pd"
   ]
  },
  {
   "cell_type": "markdown",
   "id": "8ebdb4ca",
   "metadata": {},
   "source": [
    "# part 1\n",
    "this part focuses on extracting links to the statistics for each of the teams in the landing page. the links are contained\n",
    "in the "
   ]
  },
  {
   "cell_type": "code",
   "execution_count": 27,
   "id": "cc3a0ef6",
   "metadata": {},
   "outputs": [
    {
     "data": {
      "text/plain": [
       "<!DOCTYPE html>\n",
       "<html lang=\"en-US\"><head><title>Just a moment...</title><meta content=\"text/html; charset=utf-8\" http-equiv=\"Content-Type\"/><meta content=\"IE=Edge\" http-equiv=\"X-UA-Compatible\"/><meta content=\"noindex,nofollow\" name=\"robots\"/><meta content=\"width=device-width,initial-scale=1\" name=\"viewport\"/><style>*{box-sizing:border-box;margin:0;padding:0}html{line-height:1.15;-webkit-text-size-adjust:100%;color:#313131;font-family:system-ui,-apple-system,BlinkMacSystemFont,Segoe UI,Roboto,Helvetica Neue,Arial,Noto Sans,sans-serif,Apple Color Emoji,Segoe UI Emoji,Segoe UI Symbol,Noto Color Emoji}body{display:flex;flex-direction:column;height:100vh;min-height:100vh}.main-content{margin:8rem auto;max-width:60rem;padding-left:1.5rem}@media (width <= 720px){.main-content{margin-top:4rem}}.h2{font-size:1.5rem;font-weight:500;line-height:2.25rem}@media (width <= 720px){.h2{font-size:1.25rem;line-height:1.5rem}}#challenge-error-text{background-image:url(data:image/svg+xml;base64,PHN2ZyB4bWxucz0iaHR0cDovL3d3dy53My5vcmcvMjAwMC9zdmciIHdpZHRoPSIzMiIgaGVpZ2h0PSIzMiIgZmlsbD0ibm9uZSI+PHBhdGggZmlsbD0iI0IyMEYwMyIgZD0iTTE2IDNhMTMgMTMgMCAxIDAgMTMgMTNBMTMuMDE1IDEzLjAxNSAwIDAgMCAxNiAzbTAgMjRhMTEgMTEgMCAxIDEgMTEtMTEgMTEuMDEgMTEuMDEgMCAwIDEtMTEgMTEiLz48cGF0aCBmaWxsPSIjQjIwRjAzIiBkPSJNMTcuMDM4IDE4LjYxNUgxNC44N0wxNC41NjMgOS41aDIuNzgzem0tMS4wODQgMS40MjdxLjY2IDAgMS4wNTcuMzg4LjQwNy4zODkuNDA3Ljk5NCAwIC41OTYtLjQwNy45ODQtLjM5Ny4zOS0xLjA1Ny4zODktLjY1IDAtMS4wNTYtLjM4OS0uMzk4LS4zODktLjM5OC0uOTg0IDAtLjU5Ny4zOTgtLjk4NS40MDYtLjM5NyAxLjA1Ni0uMzk3Ii8+PC9zdmc+);background-repeat:no-repeat;background-size:contain;padding-left:34px}@media (prefers-color-scheme:dark){body{background-color:#222;color:#d9d9d9}}</style><meta content=\"360\" http-equiv=\"refresh\"/></head><body><div class=\"main-wrapper\" role=\"main\"><div class=\"main-content\"><noscript><div class=\"h2\"><span id=\"challenge-error-text\">Enable JavaScript and cookies to continue</span></div></noscript></div></div><script>(function(){window._cf_chl_opt={cvId: '3',cZone: \"fbref.com\",cType: 'managed',cRay: '94eb99b75feafc6d',cH: 'kQh1nAFHP8vuII8orxeQi6vUdLbH93cSA6T0N0e0Cp8-1749754924-1.2.1.1-MlBhVYxu4S1rt.GEVl_mUtVI1RZTGnSTmoohumPP2AStrY7zqxny.EuK5Xjs5rpv',cUPMDTk: \"\\/en\\/comps\\/9\\/Premier-League-Stats?__cf_chl_tk=bTX201XhfNISbSNf04fmmePApsQn5oCJzd4PKXPjzgE-1749754924-1.0.1.1-sqSmPATFnbT83gc5Cheabr6mZHJQMG4MA9uneXGyUSM\",cFPWv: 'b',cITimeS: '1749754924',cTplC: 0,cTplV: 5,cTplB: 'cf',fa: \"\\/en\\/comps\\/9\\/Premier-League-Stats?__cf_chl_f_tk=bTX201XhfNISbSNf04fmmePApsQn5oCJzd4PKXPjzgE-1749754924-1.0.1.1-sqSmPATFnbT83gc5Cheabr6mZHJQMG4MA9uneXGyUSM\",md: \"qW4bexSjHaAnv4I_uquHW1dWTGx2BkoLFYU.ko6rtFo-1749754924-1.2.1.1-Vsq4805nn82vubXhJJy0NPwHZnQlvyXfTef8BKQmD3pUzN8pmGLynHwJ5fi_S5.6QXe1HGeNBwxSOsvvyqjH51YQMXR5IkGo8ZjTNsYsF57ean5hZ3qad.iNMUXTf6iI1p1BTidmdVDAtESDonSp6VqH7Af5MptAzcpto8JzseMAHcVOv9QgsRXlyhDYBWXBuYBTm6SEjn_2yx5VhyhxXZCHyfspwIMdsQqvsLeoF3e.0s4x7tPmwyj8VFZye92CM9roToKoBxA.siClZFeA1GMD5HalBkoeWSMc5_P5zWHL4pHIz55McHmA_EPSTBMaTjudw784_EvBcpEaEQVuxKnLJPve8OQrlSw5AHKJl0l2OUPgZ_gMbV2TdLjOuiluJ.fAfmsEH2YUtsRMEXiySeUSy0Y2VpO.y5Ci_WSQs8AM6oM5.3NtAb2nfM0WIeoORRgI3uJMcXQDiFw5u3.Oab9RRwBOqT_D1SG6MsM_OWYjFuIJRXgjqCZu8kaw_5FTeyVUdVGeQCjBnFcciQGXByX8n1KYld0Om9qPFRF4Ts00BJVDTInUAlbxwIELtedCdQ9n9clJv6u1UnhG1dB4zUo_JI.cU7B.1KojVPJPSehbKzIqiaDWCHEqFWIWvAq4LNJG6C5.LArHR380Blj7w92BmG6M3I3c0Y0.MUGtL.hSAiuYYvf71hoVlsBAKWcHZlm9zQXfgO6P5yOxTWejo2wAyubP7PRB_d59W_i4PpNW3mgJVK6ndgZhPdAJBuAZKvfBVETFdv1s2Ao..V_suJX5TRX4b26Y0CckL29SklGVLpoDphXgUZ9MlYM1TDF93hZbd9byvVm9IyoXIeRXAtciDQf2g2dG414oJ3E47rLmAG8iGf8sGz6GVv28oUbVrAHaE97iiVpfoNT8pmJa_9_AAe_ClWbvCOEHO7KNZbDDOpYcQscE3g639UUohr1l\",mdrd: \"h2elAWRkt4VVh0_7b4bo5xW8aqu6tk1duNQR1qEpBwM-1749754924-1.2.1.1-yKQsTan0lHnQ5SD_WSascSZMv4RRPnnfKLS4TKiL8r1Nkk4B_cXrrn08Wr96pUoGSMCtTHfY.JHVplArCXT_6OI_UFiLNVFrv2GfQ9ig5ThD8FqSSReTU5WixcLK_SrF3vHOfiNmajYaahrqJFmj_FZGAPf9FFCMde6xK8NTeJTn0lG9JQ1BYqmhvcfskF6VSA_4V4BQH37kRh1h5Xu4gGNTGwrL2XKi5gDFP5CgJl.9BJyoUwP_VZTB9Blr092f5k3ZWo.FX8xERExIJnmD5v.m91JQMod037EjLY8gpR_ppdHBcKmdjQMg.gblsQ0ymDWDdFN2M8VCRO3jWYyiV9blmLbjHvf1UF8XavcVnCH2t8E8tkPdVlTm1lVMP._uHKE4fF9hlvT59Q1H2fNsRAtaJnnLMauLYGITd2pqIU8NfMJ4eavqa_rylS07x7Gn86ihSp15aiBz3YGoOPUNV5x8TcXiePJn3VH5b9Nc7Lzcv92vfN9Ncnghxc04ozRnwAVFfasClL8ZVyEHHqqkC6BCMTrXXOG_pDySyKGCFSDQWPmzDiZFUHD2Nwo8tCFYFeefpMAlrSvJ3Bum8.sWJiSuiCCWAdv3cEiQOX1jkXKXlM_BeunDF560Li5vS3DFOBXgrluACM.hjsBsMEDv.OImALDs.6CU.tmKToiyiYFdo46mZC7uTu0uO.CFuiYH4jjo1MRUavI1nNvJhq3r_GkQsVDJoYchkH7UoCLwX_cPt_.VMmwmGYyZx6Lts2TPSpEuHAVLD7LgcFhNp3KI4ZjIdWmLSmHzyY6yE2P_YyvutydHxpmgWmU6J5jSfPkACFZ_2D4pGn7QNtEwcwtvLCvitYaRrR7ZEn6CNezypHxWCBZ6uoDniP_21UV2ias4Fv8JSwjuZQgdkNVVx2uvLLwyOLb1q31fi3ICy1Xtzvz0jWALng.pikpYXC71TEYdUrUurMk0kZKveOJkytv5jNNe64mwR0lPBEr49vvAtyTjXInwkTQka1KbGWFVxK9p8BrYdsU89krNqfSoOX3bBdbwwjAEuuWKv5kas0I_VwDW9IhkJSZU7mw.O8OnsMhHXvB3K4gn1IkeKLcnnI8.u97bzKQQsMuRBBO3aRb5IdI1NGvw.FDAm.SZi8Rb.VyyLIf57WSpnyerC5d8dfZlUDUXlIVJ5wQc1Q94cLVMpO6.pquQb.DY1Rn4oUiRymVj12X1gA.9iXZj9MxSFEU_5VfYWL_lcseI9tIcyJEIWpQU_1p6saHOMCJ8AaLxMzZccHn0OHkAFnkVhZa2y3UrOi689uYG7PH8aRG2BF.jHc5Q9MHr_Pz4Mo6joEtnqA0cQZPjZ0Qboj.w1uXra6g2Dhp8hmbgy9tL3TxqJBEirvceVWOa8qcxwjYb0NoDGR0PTvWHGr1LELTONpw8FPFRTqHYvRgEz78270lTej9X.e.SF0N2JW_NDAKSrcXXn224zRNNUlLIqOOiXZc_MzdcdssTeHe0CUxIhexb9KuzoyqRRXtUp0vpBEqeHbFaa5_UkSZhmJQeV7lnFuTMqOlnx.VQDMeu2dGb_Re3c5lKphEIWGYyXdYYJhExSYs7L.YkqVC_co.ILHBGedSBrcLC1GT3f5IQjIcSYco9vmxkH55AB_nuJEm7WnJBfJJSWPoiS1aS_ZpuACAmMMA2Etqu_xG7lEXpqjF5g9pR5Kaay9Amek6IPepvLoj2.GjrcjdYClcLp3O_UIn_G3bPjcMEG1HFP6DDckHQNjUIQ29y4Cr9O4hwfq0XoCLtVIDmvruv08xBKfR4Ip1fynOfxdjwAntJvQIDZEeGZ50D.IexFoT1KY4egJY9XRtbiW5gr_m3kw_PAtJKjRqNLG58kLAqTnTpie_f0OclaIaCzBK105ii3BEBrz7TdR3BAQQvchayHEaJVFeWa1FK3rq6mrbnv3C1gAxQgd_ZAheiY3s5jzTJ7GVvXg2q95tXMdpDVr_VXJT0h7E3Kx_O90emqJ.qsCW_7ooiZfAsQOIKeGgCdDImxIGGX.Zbou.ALHxD8TyVSC6AwWg0WTp.f2E3yAmtwGe_kaq8kXB.ig.DUHz2lxahy_6u_wYChJEdCt1Ac6f1vcL8_cwjFM2kderehoBPHkLKf009qLeEeDrUSFxBeRR3XWh7bOXtVZfagq6aNp0Zyr6UwHsUMe04_Xqzm_SFhgNsiQ1dPXypw8spm3grDslpldlX9ZgjLx7WUCq9vyAO8yat_d_sQvIUuPIzDU.O.OgS0krfC3jz47TxohlbrDw\",};var a = document.createElement('script');a.src = '/cdn-cgi/challenge-platform/h/b/orchestrate/chl_page/v1?ray=94eb99b75feafc6d';window._cf_chl_opt.cOgUHash = location.hash === '' && location.href.indexOf('#') !== -1 ? '#' : location.hash;window._cf_chl_opt.cOgUQuery = location.search === '' && location.href.slice(0, location.href.length - window._cf_chl_opt.cOgUHash.length).indexOf('?') !== -1 ? '?' : location.search;if (window.history && window.history.replaceState) {var ogU = location.pathname + window._cf_chl_opt.cOgUQuery + window._cf_chl_opt.cOgUHash;history.replaceState(null, null, \"\\/en\\/comps\\/9\\/Premier-League-Stats?__cf_chl_rt_tk=bTX201XhfNISbSNf04fmmePApsQn5oCJzd4PKXPjzgE-1749754924-1.0.1.1-sqSmPATFnbT83gc5Cheabr6mZHJQMG4MA9uneXGyUSM\" + window._cf_chl_opt.cOgUHash);a.onload = function() {history.replaceState(null, null, ogU);}}document.getElementsByTagName('head')[0].appendChild(a);}());</script></body></html>"
      ]
     },
     "execution_count": 27,
     "metadata": {},
     "output_type": "execute_result"
    }
   ],
   "source": [
    "# site url \n",
    "url = \"https://fbref.com/en/comps/9/Premier-League-Stats\"\n",
    "\n",
    "# request the data\n",
    "response = requests.get(url, timeout=5)\n",
    "\n",
    "# initialize BeautifulSoup with HTML content(or text) and parser\n",
    "soup = BeautifulSoup(response.text, 'html.parser')\n",
    "soup"
   ]
  },
  {
   "cell_type": "code",
   "execution_count": null,
   "id": "445269a2",
   "metadata": {},
   "outputs": [],
   "source": [
    "# "
   ]
  },
  {
   "cell_type": "code",
   "execution_count": null,
   "metadata": {},
   "outputs": [],
   "source": []
  },
  {
   "cell_type": "code",
   "execution_count": null,
   "metadata": {},
   "outputs": [],
   "source": []
  },
  {
   "cell_type": "code",
   "execution_count": null,
   "metadata": {},
   "outputs": [],
   "source": []
  }
 ],
 "metadata": {
  "kernelspec": {
   "display_name": "Python 3",
   "language": "python",
   "name": "python3"
  },
  "language_info": {
   "codemirror_mode": {
    "name": "ipython",
    "version": 3
   },
   "file_extension": ".py",
   "mimetype": "text/x-python",
   "name": "python",
   "nbconvert_exporter": "python",
   "pygments_lexer": "ipython3",
   "version": "3.13.0"
  }
 },
 "nbformat": 4,
 "nbformat_minor": 5
}
